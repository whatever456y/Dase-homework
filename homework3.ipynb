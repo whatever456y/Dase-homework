{
 "cells": [
  {
   "cell_type": "markdown",
   "metadata": {},
   "source": [
    "1.编写 Python程序,判断输入a是否为质数"
   ]
  },
  {
   "cell_type": "code",
   "execution_count": 18,
   "metadata": {},
   "outputs": [
    {
     "name": "stdout",
     "output_type": "stream",
     "text": [
      "3是一个质数\n"
     ]
    }
   ],
   "source": [
    "def is_prime_number(x):\n",
    "    if x <= 1:\n",
    "        return 0\n",
    "    else:\n",
    "        for i in range(2,x):\n",
    "            if not(x % i):\n",
    "                return 0\n",
    "    return 1\n",
    "\n",
    "a = int(input(\"请输入一个数：\"))\n",
    "if(is_prime_number(a)):\n",
    "    print(f\"{a}是一个质数\")\n",
    "else:\n",
    "    print(f\"{a}不是一个质数\")"
   ]
  },
  {
   "cell_type": "markdown",
   "metadata": {},
   "source": [
    "2.用Python实现插入排序该算法，不允许直接调用插入排序函数，需要手动实现其逻辑过程。"
   ]
  },
  {
   "cell_type": "code",
   "execution_count": 29,
   "metadata": {},
   "outputs": [
    {
     "name": "stdout",
     "output_type": "stream",
     "text": [
      "排序后的结果为：[2, 3, 4, 6, 7, 10]\n"
     ]
    }
   ],
   "source": [
    "def insertion_sort(arr):\n",
    "    for i in range(1,len(arr)):\n",
    "        key = arr[i]\n",
    "        j = i - 1\n",
    "\n",
    "        while j>=0 and arr[j] > key:\n",
    "            arr[j+1] = arr[j]\n",
    "            j -= 1\n",
    "        arr[j+1] = key\n",
    "    \n",
    "\n",
    "user_input = input(\"请输入一个数组（以空格分隔）：\")\n",
    "arr = list(map(int,user_input.split()))\n",
    "insertion_sort(arr)\n",
    "print(f\"排序后的结果为：{arr}\")"
   ]
  },
  {
   "cell_type": "markdown",
   "metadata": {},
   "source": [
    "3.用Python实现选择排序该算法，不允许直接调用选择排序函数，需要手动实现其逻辑过程。"
   ]
  },
  {
   "cell_type": "code",
   "execution_count": 30,
   "metadata": {},
   "outputs": [
    {
     "name": "stdout",
     "output_type": "stream",
     "text": [
      "排序后的结果为：[2, 3, 4, 6, 7, 10]\n"
     ]
    }
   ],
   "source": [
    "def selection_sort(arr):\n",
    "    for i in range(len(arr)):\n",
    "        min_index = i\n",
    "\n",
    "        for j in range(i+1,len(arr)):\n",
    "            if arr[j] <arr[min_index]:\n",
    "                min_index = j\n",
    "        arr[i],arr[min_index] = arr[min_index],arr[i]\n",
    "\n",
    "user_input = input(\"请输入一个数组（以空格分隔）：\")\n",
    "arr = list(map(int,user_input.split()))\n",
    "selection_sort(arr)\n",
    "print(f\"排序后的结果为：{arr}\")"
   ]
  },
  {
   "cell_type": "markdown",
   "metadata": {},
   "source": [
    "4.用Python实现快速排序该算法，不允许直接调用快速排序函数，需要手动实现其逻辑过程。"
   ]
  },
  {
   "cell_type": "code",
   "execution_count": 42,
   "metadata": {},
   "outputs": [
    {
     "name": "stdout",
     "output_type": "stream",
     "text": [
      "排序后的结果为：[2, 3, 4, 6, 7, 10]\n"
     ]
    }
   ],
   "source": [
    "def quick_sort(arr):\n",
    "    if len(arr) <= 1:\n",
    "        return arr\n",
    "    else:\n",
    "        pivot = arr[0]\n",
    "        less_than_pivot = [x for x in arr[1:] if x <= pivot]\n",
    "        more_than_pivot = [x for x in arr[1:] if x > pivot]\n",
    "        return quick_sort(less_than_pivot) + [pivot] + quick_sort(more_than_pivot)\n",
    "\n",
    "user_input = input(\"请输入一个数组（以空格分隔）：\")\n",
    "arr = list(map(int,user_input.split()))\n",
    "selection_sort(arr)\n",
    "print(f\"排序后的结果为：{arr}\")"
   ]
  },
  {
   "cell_type": "markdown",
   "metadata": {},
   "source": [
    "5.使用 Python 随机生成三组长度递增的随机数列，长度分别为100、1000、10000，对生成的随机数组使用不同的排序算法，例如选择排序和归并排序，至少三种排序方法。对这些数列的数据排序，并分析不同排序算法在不同长度数列下的运行效果，例如运行时间等指标。（可以使用排序函数）"
   ]
  },
  {
   "cell_type": "code",
   "execution_count": 58,
   "metadata": {},
   "outputs": [
    {
     "name": "stdout",
     "output_type": "stream",
     "text": [
      "数组长度为100时：\n",
      "Insertion_sort:0.000000秒\n",
      "Selection_sort:0.000000秒\n",
      "Quick_sort:0.000000秒\n",
      "数组长度为1000时：\n",
      "Insertion_sort:0.009910秒\n",
      "Selection_sort:0.021896秒\n",
      "Quick_sort:0.001001秒\n",
      "数组长度为10000时：\n",
      "Insertion_sort:1.456050秒\n",
      "Selection_sort:1.405932秒\n",
      "Quick_sort:0.018999秒\n"
     ]
    }
   ],
   "source": [
    "import random\n",
    "import time\n",
    "\n",
    "def random_array(length):\n",
    "    return [random.randint(0,1000000) for i in range(length)]\n",
    "\n",
    "def insertion_sort(arr):\n",
    "    for i in range(1,len(arr)):\n",
    "        key = arr[i]\n",
    "        j = i - 1\n",
    "\n",
    "        while j>=0 and arr[j] > key:\n",
    "            arr[j+1] = arr[j]\n",
    "            j -= 1\n",
    "        arr[j+1] = key\n",
    "        \n",
    "def selection_sort(arr):\n",
    "    for i in range(len(arr)):\n",
    "        min_index = i\n",
    "\n",
    "        for j in range(i+1,len(arr)):\n",
    "            if arr[j] <arr[min_index]:\n",
    "                min_index = j\n",
    "        arr[i],arr[min_index] = arr[min_index],arr[i]\n",
    "\n",
    "def quick_sort(arr):\n",
    "    if len(arr) <= 1:\n",
    "        return arr\n",
    "    else:\n",
    "        pivot = arr[0]\n",
    "        less_than_pivot = [x for x in arr[1:] if x <= pivot]\n",
    "        more_than_pivot = [x for x in arr[1:] if x > pivot]\n",
    "        return quick_sort(less_than_pivot) + [pivot] + quick_sort(more_than_pivot)\n",
    "    \n",
    "def sorted_time(func,arr):\n",
    "    start_time = time.time()\n",
    "    arr_sorted = func(arr[:])\n",
    "    end_time = time.time()\n",
    "    return end_time - start_time\n",
    "\n",
    "lengths = [100,1000,10000]\n",
    "sort_algorithms = {\n",
    "    'Insertion_sort':insertion_sort,\n",
    "    'Selection_sort':selection_sort,\n",
    "    'Quick_sort':quick_sort\n",
    "}\n",
    "\n",
    "for length in lengths:\n",
    "    arr_length = random_array(length)\n",
    "    print(f\"数组长度为{length}时：\")\n",
    "    for name,func in sort_algorithms.items():\n",
    "        arr_time = sorted_time(func,arr_length)\n",
    "        print(f\"{name}:{arr_time:.6f}秒\")\n",
    "\n",
    "\n"
   ]
  },
  {
   "cell_type": "markdown",
   "metadata": {},
   "source": [
    "6.使用python代码获取当前系统时间"
   ]
  },
  {
   "cell_type": "code",
   "execution_count": 2,
   "metadata": {},
   "outputs": [
    {
     "name": "stdout",
     "output_type": "stream",
     "text": [
      "2024-10-24 12:53:22.408295\n"
     ]
    }
   ],
   "source": [
    "from datetime import datetime\n",
    "current_time = datetime.now()\n",
    "print(current_time)"
   ]
  },
  {
   "cell_type": "markdown",
   "metadata": {},
   "source": [
    "7..Homework/data文件夹下的stuGrade.csv文件中包含5位同学的学号、语文成绩、数学成绩和英语成绩，请先用记事本打开该文件，查看文件内容，然后编写Python程序，读取该文件，并计算出各科的平均成绩（保留2位小数）。"
   ]
  },
  {
   "cell_type": "code",
   "execution_count": 13,
   "metadata": {},
   "outputs": [
    {
     "name": "stdout",
     "output_type": "stream",
     "text": [
      "语文平均成绩：82.60\n",
      "数学平均成绩：81.00\n",
      "英语平均成绩：81.80\n"
     ]
    }
   ],
   "source": [
    "import pandas as pd\n",
    "df = pd.read_csv('stuGrade.csv')\n",
    "\n",
    "average_chinese = \"{:.2f}\".format(df['chinese'].mean())\n",
    "average_math = \"{:.2f}\".format(df['math'].mean())\n",
    "average_english = \"{:.2f}\".format(df['english'].mean())\n",
    "\n",
    "print(f\"语文平均成绩：{average_chinese}\")\n",
    "print(f\"数学平均成绩：{average_math}\")\n",
    "print(f\"英语平均成绩：{average_english}\")"
   ]
  },
  {
   "cell_type": "markdown",
   "metadata": {},
   "source": [
    "8..请在第7题的代码继续编写Python程序，将以下内容写入my.txt文件中，一并上传到github中。\n",
    "\n",
    "第1行：你的学号和姓名\n",
    "\n",
    "第2行：3门课程的平均成绩（任意课程），保留2位小数，以英文逗号间隔\n",
    "\n",
    "第3行：系统当前时间，格式例如2020-01-01 12:00:00\n",
    "\n",
    "第4行：两秒后的系统当前时间（利用sleep()方法）"
   ]
  },
  {
   "cell_type": "code",
   "execution_count": 14,
   "metadata": {},
   "outputs": [],
   "source": [
    "import time\n",
    "from datetime import datetime\n",
    "\n",
    "stu_id = '10235501407'\n",
    "stu_name = '周雍佳'\n",
    "\n",
    "current_time = datetime.now().strftime('%Y-%m-%d %H:%M:%S')\n",
    "time.sleep(2)\n",
    "future_time = datetime.now().strftime('%Y-%m-%d %H:%M:%S')\n",
    "\n",
    "content = [\n",
    "    f\"{stu_id} {stu_name}\",\n",
    "    f\"{average_chinese},{average_math},{average_english}\",\n",
    "    current_time,\n",
    "    future_time\n",
    "]\n",
    "\n",
    "\n",
    "with open('my.txt','w',encoding = 'utf-8') as file:\n",
    "     file.write(\"\\n\".join(content))\n",
    "\n"
   ]
  }
 ],
 "metadata": {
  "kernelspec": {
   "display_name": "Python 3",
   "language": "python",
   "name": "python3"
  },
  "language_info": {
   "codemirror_mode": {
    "name": "ipython",
    "version": 3
   },
   "file_extension": ".py",
   "mimetype": "text/x-python",
   "name": "python",
   "nbconvert_exporter": "python",
   "pygments_lexer": "ipython3",
   "version": "3.12.6"
  }
 },
 "nbformat": 4,
 "nbformat_minor": 2
}
