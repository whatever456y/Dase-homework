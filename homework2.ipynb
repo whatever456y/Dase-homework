{
 "cells": [
  {
   "cell_type": "markdown",
   "metadata": {},
   "source": [
    "1.编写 Python 程序，求两个正整数的最大公约数。\n"
   ]
  },
  {
   "cell_type": "code",
   "execution_count": 4,
   "metadata": {},
   "outputs": [
    {
     "name": "stdout",
     "output_type": "stream",
     "text": [
      "1324和398的最大公约数是：2\n"
     ]
    }
   ],
   "source": [
    "def gcd(x,y):\n",
    "    while y != 0:\n",
    "        x,y = y,x%y  \n",
    "    return x\n",
    "a = int(input(\"请输入第一个数：\"))\n",
    "b = int(input(\"请输入第二个数：\"))\n",
    "print(f\"{a}和{b}的最大公约数是：{gcd(a,b)}\")"
   ]
  },
  {
   "cell_type": "markdown",
   "metadata": {},
   "source": [
    "2.用if语句实现百分制转等级制（考试成绩，60分以下不合格，60—74分合格，75—89分为良好，90分以上为优秀）。"
   ]
  },
  {
   "cell_type": "code",
   "execution_count": 16,
   "metadata": {},
   "outputs": [
    {
     "name": "stdout",
     "output_type": "stream",
     "text": [
      "优秀\n"
     ]
    }
   ],
   "source": [
    "score = float(input(\"请输入你的分数：\"))\n",
    "if(score < 60):\n",
    "    print(\"不合格\")\n",
    "elif(score <= 74):\n",
    "    print(\"合格\")\n",
    "elif(score <= 89):\n",
    "    print(\"良好\")\n",
    "else:\n",
    "    print(\"优秀\")"
   ]
  },
  {
   "cell_type": "markdown",
   "metadata": {},
   "source": [
    "3.编写Python程序，完成十进制小数到二进制小数的转换"
   ]
  },
  {
   "cell_type": "code",
   "execution_count": 53,
   "metadata": {},
   "outputs": [
    {
     "name": "stdout",
     "output_type": "stream",
     "text": [
      "1010.001\n"
     ]
    }
   ],
   "source": [
    "def int_tran(x):\n",
    "    L = []\n",
    "    while x != 0:\n",
    "        L.append(x % 2)\n",
    "        x = x // 2\n",
    "    for i in range(len(L)-1,-1,-1):\n",
    "        print(L[i],end=\"\")\n",
    "\n",
    "def sec_tran(x):\n",
    "    bin_list = \"\"\n",
    "    while x != 0:\n",
    "        x *= 2\n",
    "        if x >= 1:\n",
    "            bin_list += '1'\n",
    "            x -= 1\n",
    "        else:\n",
    "            bin_list += '0'\n",
    "    return bin_list\n",
    "\n",
    "num = float(input(\"请输入一个十进制小数：\"))\n",
    "int_tran(int(num))\n",
    "print(\".\" + sec_tran(num - int(num)))"
   ]
  },
  {
   "cell_type": "markdown",
   "metadata": {},
   "source": [
    "4. 编写Python程序，产生10-20的随机浮点数"
   ]
  },
  {
   "cell_type": "code",
   "execution_count": 54,
   "metadata": {},
   "outputs": [
    {
     "name": "stdout",
     "output_type": "stream",
     "text": [
      "16.36768592599138\n"
     ]
    }
   ],
   "source": [
    "import random\n",
    "random_float = random.uniform(10,20)\n",
    "print(random_float)"
   ]
  },
  {
   "cell_type": "markdown",
   "metadata": {},
   "source": [
    "5.编写一个Python函数，判断一个整数是否是回文数。回文数是指正序（从左向右）和倒序（从右向左）读都是一样的数。"
   ]
  },
  {
   "cell_type": "code",
   "execution_count": 56,
   "metadata": {},
   "outputs": [
    {
     "name": "stdout",
     "output_type": "stream",
     "text": [
      "232是一个回文数\n"
     ]
    }
   ],
   "source": [
    "def palindrome(num):\n",
    "    str_num = str(num)\n",
    "    for i in range(len(str_num)-1,-1,-1):\n",
    "        if(str_num[i] != str_num[len(str_num)-1-i]):\n",
    "            return 0\n",
    "    return 1\n",
    "\n",
    "x = int(input(\"请输入一个整数：\"))\n",
    "if palindrome(x):\n",
    "    print(f\"{x}是一个回文数\")\n",
    "else:\n",
    "    print(f\"{x}不是一个回文数\")\n"
   ]
  },
  {
   "cell_type": "markdown",
   "metadata": {},
   "source": [
    "6.编写一个Python函数，返回一个包含斐波那契数列的前N个数的列表。斐波那契数列是一个数列，其中每个数是前两个数的和，数列以0和1开始。"
   ]
  },
  {
   "cell_type": "code",
   "execution_count": 6,
   "metadata": {},
   "outputs": [
    {
     "name": "stdout",
     "output_type": "stream",
     "text": [
      "包含前10个斐波那契数的数列为：[0, 1, 1, 2, 3, 5, 8, 13, 21, 34]\n"
     ]
    }
   ],
   "source": [
    "def Fibonacci(n):\n",
    "    if n == 1:\n",
    "        return [0]\n",
    "    elif n == 2:\n",
    "        return [0,1]\n",
    "    else:\n",
    "        L = [0,1]\n",
    "        for i in range(3,n+1):\n",
    "            L.append(L[-1] + L[-2])\n",
    "        return L\n",
    "N = int(input(\"请输入一个整数：\"))\n",
    "print(f\"包含前{N}个斐波那契数的数列为：{Fibonacci(N)}\")\n",
    "\n"
   ]
  },
  {
   "cell_type": "markdown",
   "metadata": {},
   "source": [
    "7.编写一个Python函数，接受一个整数数组作为输入，返回数组中第二大的数。如果数组中只有一个元素或数组为空，则返回-1。"
   ]
  },
  {
   "cell_type": "code",
   "execution_count": 21,
   "metadata": {},
   "outputs": [
    {
     "name": "stdout",
     "output_type": "stream",
     "text": [
      "数组[1, 3, 56]中第二大的数是3\n"
     ]
    }
   ],
   "source": [
    "def is_empty(L):\n",
    "    if len(L) <= 1:\n",
    "        return -1\n",
    "    sorted(L)\n",
    "    return L[-2]\n",
    "\n",
    "array = [int(x) for x in input(\"请输入一个整数数组：\").split()]\n",
    "if(is_empty(array) == -1):\n",
    "    print(f\"数组{array}中没有第二大的数\")\n",
    "else:\n",
    "    print(f\"数组{array}中第二大的数是{is_empty(array)}\")"
   ]
  },
  {
   "cell_type": "markdown",
   "metadata": {},
   "source": [
    "8.编写一个函数，使其能够用正则表达式的方式简单验证身份证号是否合法。\n",
    "validate_id_card函数使用正则表达式模式来匹配身份证号。模式通过以下方式验证身份证号的格式：\n",
    "\n",
    "第一位必须是1-9的数字，不以0开头。\n",
    "接下来5位是地区码。（开头6位都是地区码）\n",
    "紧接着6位是出生年份和月份。\n",
    "接下来2位是出生日。\n",
    "然后是3位顺序码（通常是随机数字）。\n",
    "最后一位可以是数字或大写字母X。\n",
    "^：表示匹配字符串的开头，确保正则表达式从字符串的开头开始匹配。\n",
    "\n",
    "[1-9]：表示第一位是数字，但不包括0。这是因为身份证号的第一位通常不是0。\n",
    "\n",
    "\\d{5}：表示接下来的5位是数字（0-9），共计6位，这部分用来表示地区编码。\n",
    "\n",
    "(19|20)：这是一个分组，用于匹配年份的前两位。身份证号通常使用19或20作为年份的前两位。\n",
    "\n",
    "\\d{2}：表示匹配年份的后两位，共计2位。\n",
    "\n",
    "(0[1-9]|1[0-2])：这是一个分组，用于匹配月份。月份的范围是01到12。这一部分可以匹配01到09月以及10到12月。\n",
    "\n",
    "(0[1-9]|[1-2]\\d|3[0-1])：这是一个分组，用于匹配日期。它可以匹配01到09日，10到29日，以及30到31日。\n",
    "\n",
    "\\d{3}：表示匹配身份证号中的顺序码，通常是3位数字。\n",
    "\n",
    "(\\d|X|x)：这是最后一部分，用于匹配身份证号的校验码。它可以是数字（0-9）或字母X（可以是大写或小写）。\n",
    "\n",
    "$：表示匹配字符串的结尾，确保正则表达式匹配到字符串的末尾。"
   ]
  },
  {
   "cell_type": "code",
   "execution_count": 18,
   "metadata": {},
   "outputs": [
    {
     "name": "stdout",
     "output_type": "stream",
     "text": [
      "合法\n"
     ]
    }
   ],
   "source": [
    "import re\n",
    "def validate_id_card(id):\n",
    "    pattern = r'^[1-9]\\d{5}(18|19|20)\\d{2}(0[1-9]|1[0-2])(0[1-9]|[12]\\d|3[01])\\d{3}[\\dXx]$'\n",
    "\n",
    "    if re.match(pattern,id):\n",
    "        factors = [7, 9, 10, 5, 8, 4, 2, 1, 6, 3, 7, 9, 10, 5, 8, 4, 2]\n",
    "        sum = 0\n",
    "        for i in range(17):\n",
    "            sum += int(id[i]) * factors[i]\n",
    "        reminder = sum % 11\n",
    "        expected_char = '10X98765432'[reminder]\n",
    "        if id_card[-1].upper() == expected_char:\n",
    "            return True\n",
    "    return False\n",
    "\n",
    "id_card = input(\"请输入身份证号：\")\n",
    "if validate_id_card(id_card):\n",
    "    print(\"合法\")\n",
    "else:\n",
    "    print(\"非法\")"
   ]
  }
 ],
 "metadata": {
  "kernelspec": {
   "display_name": "Python 3",
   "language": "python",
   "name": "python3"
  },
  "language_info": {
   "codemirror_mode": {
    "name": "ipython",
    "version": 3
   },
   "file_extension": ".py",
   "mimetype": "text/x-python",
   "name": "python",
   "nbconvert_exporter": "python",
   "pygments_lexer": "ipython3",
   "version": "3.12.6"
  }
 },
 "nbformat": 4,
 "nbformat_minor": 2
}
