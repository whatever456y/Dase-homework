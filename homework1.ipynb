{
 "cells": [
  {
   "cell_type": "markdown",
   "metadata": {},
   "source": [
    "1.编写Python程序，打印\"数据科学与工程导论\"，并使用 print(chr(0x2605)) 语句将这句话包围起来。"
   ]
  },
  {
   "cell_type": "code",
   "execution_count": 1,
   "metadata": {},
   "outputs": [
    {
     "name": "stdout",
     "output_type": "stream",
     "text": [
      "★★★★★★★★★★★\n",
      "★数据科学与工程导论★\n",
      "★★★★★★★★★★★\n"
     ]
    }
   ],
   "source": [
    "print(chr(0x2605)*11)\n",
    "print(chr(0x2605)+\"数据科学与工程导论\"+chr(0x2605))\n",
    "print(chr(0x2605)*11)"
   ]
  },
  {
   "cell_type": "markdown",
   "metadata": {},
   "source": [
    "2.写一个 Python 程序，输入 x, y, z 这三个数，将这三个数从小到大使用 print 函数打印出来"
   ]
  },
  {
   "cell_type": "code",
   "execution_count": 3,
   "metadata": {},
   "outputs": [
    {
     "name": "stdout",
     "output_type": "stream",
     "text": [
      "从小到大排序后的数是:  [2.0, 3.0, 1000.0]\n"
     ]
    }
   ],
   "source": [
    "x = float(input(\"请输入第一个数 x: \"))  \n",
    "y = float(input(\"请输入第二个数 y: \"))  \n",
    "z = float(input(\"请输入第三个数 z: \"))  \n",
    "  \n",
    "sorted_numbers = sorted([x, y, z])  \n",
    "\n",
    "print(\"从小到大排序后的数是: \", sorted_numbers)"
   ]
  },
  {
   "cell_type": "markdown",
   "metadata": {},
   "source": [
    "3.写一个 Python 程序，有 w, x, y, z 四个数，将这四个数从大到小使用 print 函数打印出来。"
   ]
  },
  {
   "cell_type": "code",
   "execution_count": 4,
   "metadata": {},
   "outputs": [
    {
     "name": "stdout",
     "output_type": "stream",
     "text": [
      "从大到小排序后的数是:  [3423.0, 643.0, 88.0, 11.0]\n"
     ]
    }
   ],
   "source": [
    "w = float(input(\"请输入第一个数：\"))\n",
    "x = float(input(\"请输入第二个数：\"))\n",
    "y = float(input(\"请输入第三个数：\"))\n",
    "z = float(input(\"请输入第四个数：\"))\n",
    "\n",
    "lists = [w,x,y,z]\n",
    "lists.sort(reverse=True)\n",
    "\n",
    "print(\"从大到小排序后的数是: \", lists)"
   ]
  },
  {
   "cell_type": "markdown",
   "metadata": {},
   "source": [
    "4.写一个 Python 程序，输出 1-100 中的所有奇数。"
   ]
  },
  {
   "cell_type": "code",
   "execution_count": 9,
   "metadata": {},
   "outputs": [
    {
     "name": "stdout",
     "output_type": "stream",
     "text": [
      "1 3 5 7 9 11 13 15 17 19 21 23 25 27 29 31 33 35 37 39 41 43 45 47 49 51 53 55 57 59 61 63 65 67 69 71 73 75 77 79 81 83 85 87 89 91 93 95 97 99 "
     ]
    }
   ],
   "source": [
    "for number in range(0,50):\n",
    "    print(2 * number + 1,end = \" \")"
   ]
  },
  {
   "cell_type": "markdown",
   "metadata": {},
   "source": [
    "5.写一个 Python 程序，用 for 循环，求解 1 到 100 的和。"
   ]
  },
  {
   "cell_type": "code",
   "execution_count": 10,
   "metadata": {},
   "outputs": [
    {
     "name": "stdout",
     "output_type": "stream",
     "text": [
      "5050\n"
     ]
    }
   ],
   "source": [
    "num = 0\n",
    "for i in range(1,101):\n",
    "    num += i\n",
    "print(num)"
   ]
  },
  {
   "cell_type": "markdown",
   "metadata": {},
   "source": [
    "6.写一个 Python 程序，分别用 for 和 while 循环实现对一个给定序列的倒排序输出。例如，给定 L=[1,2,3,4,5]，输出为 [5,4,3,2,1]。"
   ]
  },
  {
   "cell_type": "code",
   "execution_count": 16,
   "metadata": {},
   "outputs": [
    {
     "name": "stdout",
     "output_type": "stream",
     "text": [
      "[9, 8, 6, 5, 3, 1]\n"
     ]
    }
   ],
   "source": [
    "def reverse_list_for(L):\n",
    "    reversed_list = []\n",
    "    for i in range(len(L)-1,-1,-1):\n",
    "        reversed_list.append(L[i])\n",
    "    return reversed_list\n",
    "\n",
    "L1 = [1,3,5,6,8,9]\n",
    "L2 = reverse_list_for(L1)\n",
    "print(L2)"
   ]
  },
  {
   "cell_type": "code",
   "execution_count": 22,
   "metadata": {},
   "outputs": [
    {
     "name": "stdout",
     "output_type": "stream",
     "text": [
      "[9, 8, 56, 3, 2]\n"
     ]
    }
   ],
   "source": [
    "def reverse_list_while(L):\n",
    "    reversed_list = []\n",
    "    i = len(L) - 1\n",
    "    while i >= 0:\n",
    "        reversed_list.append(L[i])\n",
    "        i -=1\n",
    "    return reversed_list\n",
    "L1 = [2,3,56,8,9]\n",
    "L2 = reverse_list_while(L1)\n",
    "print(L2)"
   ]
  },
  {
   "cell_type": "markdown",
   "metadata": {},
   "source": [
    "7.写一个 Python 程序，判断一个输入的字符串 S 是否包含由两个或两个以上连续出现的相同字符组成的字符串。例如，abccccda 中就包含 cccc 这个由 4 个连续字符组成的字符串。"
   ]
  },
  {
   "cell_type": "code",
   "execution_count": 27,
   "metadata": {},
   "outputs": [
    {
     "name": "stdout",
     "output_type": "stream",
     "text": [
      "zxhxnl\n"
     ]
    },
    {
     "data": {
      "text/plain": [
       "False"
      ]
     },
     "execution_count": 27,
     "metadata": {},
     "output_type": "execute_result"
    }
   ],
   "source": [
    "def judge_char(L):\n",
    "    for i in range(0,len(L)-1):\n",
    "        if L[i] == L[i+1]:\n",
    "            return True\n",
    "        return False\n",
    "L1 = input(\"请输入字符串：\")\n",
    "print(L1)\n",
    "judge_char(L1)"
   ]
  },
  {
   "cell_type": "markdown",
   "metadata": {},
   "source": [
    "8.写一个 Python 程序，输入一个字符串 S，去掉其中所有的空格后输出。例如，“DataScience and Engineering”，去掉空格后为“DataScienceandEngineering”。"
   ]
  },
  {
   "cell_type": "code",
   "execution_count": 34,
   "metadata": {},
   "outputs": [
    {
     "name": "stdout",
     "output_type": "stream",
     "text": [
      "DataScienceandEngineering"
     ]
    }
   ],
   "source": [
    "S = input(\"请输入字符串：\")\n",
    "L = []\n",
    "for i in S:\n",
    "    if i != \" \":\n",
    "        L.append(i)\n",
    "for i in L:\n",
    "    print(i,end=\"\")"
   ]
  },
  {
   "cell_type": "markdown",
   "metadata": {},
   "source": [
    "9.请设计一个求 3 次方根的算法（不允许直接调用求方根的函数），并给出对应的 Python 程序。 采用牛顿迭代法求解，迭代过程数学公式表示为： \n"
   ]
  },
  {
   "cell_type": "code",
   "execution_count": 38,
   "metadata": {},
   "outputs": [
    {
     "name": "stdout",
     "output_type": "stream",
     "text": [
      "1000000.0\n",
      "结果为: 100.0\n"
     ]
    }
   ],
   "source": [
    "def f(x):\n",
    "    y = 0\n",
    "    if x != 0:\n",
    "        y = x / 3\n",
    "    for _ in range(1000):\n",
    "        z = y - (y**3 -x) / (3 * y**2)\n",
    "        y = z\n",
    "    return y\n",
    "\n",
    "a = float(input(\"请输入一个数: \"))\n",
    "print(a)\n",
    "result = f(a)\n",
    "print(f\"结果为: {result}\")"
   ]
  },
  {
   "cell_type": "markdown",
   "metadata": {},
   "source": [
    "10.写一个 Python 程序，给定一个常数 n（n>0），求 n 的阶乘，即 n!=1×2×...×(n-1)×n。例如，4!=24，5!=120。"
   ]
  },
  {
   "cell_type": "code",
   "execution_count": 41,
   "metadata": {},
   "outputs": [
    {
     "name": "stdout",
     "output_type": "stream",
     "text": [
      "10的阶乘为3628800\n"
     ]
    }
   ],
   "source": [
    "def f(x):\n",
    "    num = 1\n",
    "    while x > 0:\n",
    "        num *= x\n",
    "        x -= 1\n",
    "    return num\n",
    "n = int(input(\"请输入数字n:\"))\n",
    "print(f\"{n}的阶乘为{f(n)}\")\n",
    "\n"
   ]
  }
 ],
 "metadata": {
  "kernelspec": {
   "display_name": "Python 3",
   "language": "python",
   "name": "python3"
  },
  "language_info": {
   "codemirror_mode": {
    "name": "ipython",
    "version": 3
   },
   "file_extension": ".py",
   "mimetype": "text/x-python",
   "name": "python",
   "nbconvert_exporter": "python",
   "pygments_lexer": "ipython3",
   "version": "3.12.6"
  }
 },
 "nbformat": 4,
 "nbformat_minor": 2
}
